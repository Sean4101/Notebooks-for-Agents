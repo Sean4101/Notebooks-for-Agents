{
 "cells": [
  {
   "cell_type": "code",
   "execution_count": 1,
   "metadata": {},
   "outputs": [],
   "source": [
    "import numpy as np\n",
    "\n",
    "from stable_baselines3 import PPO\n",
    "from PO_grid_world import PO_GridWorld\n",
    "from notebook_env_wrapper import NotebookEnvWrapper"
   ]
  },
  {
   "cell_type": "code",
   "execution_count": 2,
   "metadata": {},
   "outputs": [],
   "source": [
    "env = PO_GridWorld()\n",
    "env_po = PO_GridWorld(partially_observable=True)\n",
    "env_notebook = NotebookEnvWrapper(PO_GridWorld(partially_observable=True), notebook_size=8)"
   ]
  },
  {
   "cell_type": "code",
   "execution_count": 8,
   "metadata": {},
   "outputs": [
    {
     "name": "stdout",
     "output_type": "stream",
     "text": [
      "PO Model 0 trained\n",
      "PO Model 1 trained\n",
      "PO Model 2 trained\n",
      "Notebook Model 0 trained\n",
      "Notebook Model 1 trained\n",
      "Notebook Model 2 trained\n"
     ]
    }
   ],
   "source": [
    "n = 3\n",
    "\n",
    "# Train n PO models\n",
    "for i in range(n):\n",
    "    model = PPO(\"MlpPolicy\", \n",
    "                env_po, \n",
    "                verbose=0,\n",
    "                learning_rate=0.0001,\n",
    "                gamma=0.9)\n",
    "    model.learn(total_timesteps=500000)\n",
    "    model.save(f\"models_cmp/ppo_gridworld_po_{i}\")\n",
    "    print(f\"PO Model {i} trained\")\n",
    "\n",
    "# Train n notebook models\n",
    "for i in range(n):\n",
    "    model = PPO(\"MlpPolicy\", \n",
    "                env_notebook, \n",
    "                verbose=0,\n",
    "                learning_rate=0.0001,\n",
    "                gamma=0.9)\n",
    "    model.learn(total_timesteps=500000)\n",
    "    model.save(f\"models_cmp/ppo_gridworld_notebook_{i}\")\n",
    "    print(f\"Notebook Model {i} trained\")"
   ]
  }
 ],
 "metadata": {
  "kernelspec": {
   "display_name": "Notebook",
   "language": "python",
   "name": "python3"
  },
  "language_info": {
   "codemirror_mode": {
    "name": "ipython",
    "version": 3
   },
   "file_extension": ".py",
   "mimetype": "text/x-python",
   "name": "python",
   "nbconvert_exporter": "python",
   "pygments_lexer": "ipython3",
   "version": "3.12.7"
  }
 },
 "nbformat": 4,
 "nbformat_minor": 2
}

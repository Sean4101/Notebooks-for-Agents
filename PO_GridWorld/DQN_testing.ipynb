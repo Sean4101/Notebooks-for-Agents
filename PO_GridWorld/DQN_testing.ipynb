{
 "cells": [
  {
   "cell_type": "code",
   "execution_count": 1,
   "metadata": {},
   "outputs": [],
   "source": [
    "from stable_baselines3 import DQN\n",
    "from PO_grid_world import PO_GridWorld"
   ]
  },
  {
   "cell_type": "code",
   "execution_count": 2,
   "metadata": {},
   "outputs": [],
   "source": [
    "env = PO_GridWorld()"
   ]
  },
  {
   "cell_type": "code",
   "execution_count": 3,
   "metadata": {},
   "outputs": [],
   "source": [
    "arrows = [\"↑\", \"↓\", \"←\", \"→\"]\n",
    "\n",
    "def print_policy(model):\n",
    "    for i in range(6):\n",
    "        for j in range(6):\n",
    "            obs = i*6 + j\n",
    "            pred = model.predict(obs, deterministic=True)[0]\n",
    "            print(arrows[pred], end=\" \")\n",
    "        print()\n",
    "\n",
    "def print_policy_po(po_model):\n",
    "    for i in range(6):\n",
    "        for j in range(6):\n",
    "            obs = (i//2)*3 + (j//2)\n",
    "            pred = po_model.predict(obs, deterministic=True)[0]\n",
    "            print(arrows[pred], end=\" \")\n",
    "        print()"
   ]
  },
  {
   "cell_type": "code",
   "execution_count": 5,
   "metadata": {},
   "outputs": [
    {
     "name": "stdout",
     "output_type": "stream",
     "text": [
      "→ → → → → ← \n",
      "↑ ↑ → ↑ → ↑ \n",
      "↑ → → → → ↑ \n",
      "→ → → → ↑ ↑ \n",
      "↑ ↑ ↑ → ↑ ↑ \n",
      "↑ ↑ → → → ↑ \n"
     ]
    }
   ],
   "source": [
    "model = DQN.load(\"models/dqn_gridworld_normal\")\n",
    "print_policy(model)"
   ]
  },
  {
   "cell_type": "code",
   "execution_count": 7,
   "metadata": {},
   "outputs": [
    {
     "name": "stdout",
     "output_type": "stream",
     "text": [
      "← ← ← ← ↑ ↑ \n",
      "← ← ← ← ↑ ↑ \n",
      "→ → → → ↑ ↑ \n",
      "→ → → → ↑ ↑ \n",
      "↑ ↑ ← ← ↑ ↑ \n",
      "↑ ↑ ← ← ↑ ↑ \n"
     ]
    }
   ],
   "source": [
    "model = DQN.load(\"models/dqn_gridworld_po\")\n",
    "print_policy_po(model)"
   ]
  }
 ],
 "metadata": {
  "kernelspec": {
   "display_name": "Notebook",
   "language": "python",
   "name": "python3"
  },
  "language_info": {
   "codemirror_mode": {
    "name": "ipython",
    "version": 3
   },
   "file_extension": ".py",
   "mimetype": "text/x-python",
   "name": "python",
   "nbconvert_exporter": "python",
   "pygments_lexer": "ipython3",
   "version": "3.12.7"
  }
 },
 "nbformat": 4,
 "nbformat_minor": 2
}
